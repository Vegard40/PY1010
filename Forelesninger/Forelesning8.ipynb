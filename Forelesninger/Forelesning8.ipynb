{
 "cells": [
  {
   "attachments": {},
   "cell_type": "markdown",
   "id": "14a91399-7ec9-49b3-850d-b969a6c80329",
   "metadata": {},
   "source": [
    "# Forelesning 8: for-løkke og while-løkke\n",
    "Løkker: brukes til å iterere over elementer i en sekvens (som lister, strenger, arrays, tupler osv.).\n",
    "\n",
    "### For-løkker\n",
    "- Antall iterasjoner er kjent på forhånd.\n",
    "- Syntaks:\n",
    "\n",
    "##### for element in sekvens:\n",
    "    # kodeblokk\n",
    "\n",
    "\n",
    "##### for i in range(start, stop):\n",
    "    # kodeblokk\n",
    "\n",
    "\n",
    "### while-løkker\r",
    "- Betinget iterasjon: Fortsetter å kjøre så lenge en gitt betingelse er sann.\n",
    "- Antall iterasjoner er **ikke** (nødvendigvis) kjent på forhånd.\n",
    "- Syntaks:\n",
    "\r",
    "##### while betingelse:\n",
    "    # kodeblokk\n",
    "\n",
    "        "
   ]
  },
  {
   "cell_type": "code",
   "execution_count": 9,
   "id": "d867bb4a-7d79-4c6d-b00d-f065125d6ce2",
   "metadata": {},
   "outputs": [
    {
     "name": "stdout",
     "output_type": "stream",
     "text": [
      "12.3\n",
      "kake\n",
      "-17\n",
      "Hei\n",
      "11.5\n"
     ]
    }
   ],
   "source": [
    "# eks\n",
    "\n",
    "txt = \"god dag\"\n",
    "\n",
    "#print(txt)\n",
    "\n",
    "#for a in txt:\n",
    "#    print(a)\n",
    "\n",
    "min_liste = [12.3, \"kake\", -17, \"Hei\", 23/2]\n",
    "\n",
    "#for innhold in min_liste:\n",
    "#    print(innhold)\n",
    "    \n",
    "#print(min_liste)\n",
    "\n",
    "for i in range(0, 5):\n",
    "    print(min_liste[i])\n",
    "    "
   ]
  },
  {
   "cell_type": "code",
   "execution_count": null,
   "id": "e7e725b0-cca6-480f-a2e1-09d176ae672a",
   "metadata": {},
   "outputs": [],
   "source": []
  },
  {
   "cell_type": "code",
   "execution_count": null,
   "id": "727ffe31-e2f8-4497-b532-20d54f0b79e0",
   "metadata": {},
   "outputs": [],
   "source": [
    "import time\n",
    "\n",
    "X = 10\n",
    "Y = 30\n",
    "\n",
    "while X > 1:\n",
    "    print(\"X krymper med 1\")\n",
    "    X = X - 1\n",
    "    time.sleep(1)\n",
    "print(\"X har nå krympet med 9\")\n",
    "\n"
   ]
  },
  {
   "cell_type": "code",
   "execution_count": null,
   "id": "cd17c8a2-338e-417a-aa7f-3a35c3439535",
   "metadata": {},
   "outputs": [],
   "source": []
  },
  {
   "cell_type": "markdown",
   "id": "3fe3b5a0-99f2-4159-a960-c7146aa1d4e3",
   "metadata": {},
   "source": [
    "## For-løkker \n",
    "#### Noen typske problemstillinger hvor bruk av for-løkker egner seg\n",
    "\n",
    "Gitt følgende array:\n",
    "\n",
    "arr = np.array([3, -2, 1.7, 2.6, 14, -27, 1.9, -0.1, 8.2])\n",
    "\n",
    "1) lag et program som skriv ut ett og ett element i denne arrayen.\n",
    "2) lag et program som skriver ut annen hvert element i arrayen. \n",
    "3) lag en funksjon som tar inn en gitt indeks, og som så skriver ut elementet som ligger til venstre og høyre for den gitt indeksen.\n",
    "4) lag en funksjon som finner antall elementer som er positiv og antall elementer som er negative."
   ]
  },
  {
   "cell_type": "code",
   "execution_count": 21,
   "id": "7be80d8e-360b-42c7-a04e-e8c0e5046d92",
   "metadata": {},
   "outputs": [
    {
     "name": "stdout",
     "output_type": "stream",
     "text": [
      "Antall positive er: 6\n",
      "Antall negative er: 3\n"
     ]
    }
   ],
   "source": [
    "#Eksempel på for-løkke\n",
    "import numpy as np\n",
    "#Oppgave 1:\n",
    "array = np.array([3, -2, 1.7, 2.6, 14, -27, 1.9, -0.1, 8.2])\n",
    "#for i in array:\n",
    "#    print(i)\n",
    "\n",
    "#Oppgave 2:\n",
    "#for i in range(0, len(array), 2):\n",
    "#    print(array[i])\n",
    "\n",
    "#Oppgave 3:\n",
    "\n",
    "\n",
    "#Oppgave 4:\n",
    "def finn_pos_neg(array):\n",
    "    ant_pos = 0\n",
    "    ant_neg = 0\n",
    "    for i in array:\n",
    "        if i >= 0:\n",
    "            ant_pos += 1\n",
    "        else:\n",
    "            ant_neg += 1\n",
    "    print(\"Antall positive er:\", ant_pos)\n",
    "    print(\"Antall negative er:\", ant_neg)\n",
    "\n",
    "finn_pos_neg(array)"
   ]
  },
  {
   "cell_type": "markdown",
   "id": "8ce22232-5c75-415f-8d7a-1522837a24fd",
   "metadata": {},
   "source": [
    "## While-løkker\n",
    "#### While-løkker kan erstatte for-løkker for noen problemstillinger (og vice versa) \n",
    "\n",
    "Gitt følgende array:\n",
    "\n",
    "arr = np.array([3, -2, 1.7, 2.3, 14, -27, 1.9, -0.1, 8.2])\n",
    "\n",
    "1) lag et program som skriv ut ett og ett element i denne arrayen.\n",
    "2) lag et program som skriver ut annen hvert element i arrayen. "
   ]
  },
  {
   "cell_type": "code",
   "execution_count": 30,
   "id": "293a4c95-0916-410c-b1d5-9ba8fbc3a17b",
   "metadata": {},
   "outputs": [
    {
     "name": "stdout",
     "output_type": "stream",
     "text": [
      "3.0\n",
      "-2.0\n",
      "1.7\n",
      "2.3\n",
      "14.0\n",
      "-27.0\n",
      "1.9\n",
      "-0.1\n",
      "8.2\n",
      "3.0\n",
      "1.7\n",
      "14.0\n",
      "1.9\n",
      "8.2\n"
     ]
    }
   ],
   "source": [
    "#Eksempel på kode: \n",
    "import numpy as np\n",
    "\n",
    "arr = np.array([3, -2, 1.7, 2.3, 14, -27, 1.9, -0.1, 8.2])\n",
    "\n",
    "lengde = len(arr)\n",
    "#Ett og ett element\n",
    "index1 = 0\n",
    "while index1 < lengde:\n",
    "    print(arr[index1])\n",
    "    index1 += 1\n",
    "\n",
    "#Annenhvert element\n",
    "index2 = 0\n",
    "while index2 < lengde:\n",
    "    print(arr[index2])\n",
    "    index2 += 2\n"
   ]
  },
  {
   "cell_type": "markdown",
   "id": "8557dcc2-9b91-4a38-aa2e-84bb1332ca3a",
   "metadata": {},
   "source": [
    "## While-løkker \n",
    "#### Noen typske problemstillinger hvor bruk av while-løkker egner seg\n",
    "\n",
    "arr = np.array([3, 2, 1.7, 2.6, 14, 27, 1.9, 0.1, 8.2])\n",
    "\n",
    "1) Lag en funksjon som søker gjennom arrayen og finner de to første tallene som er større eller lik fem.\r\n",
    "2) \r\n",
    "Lag en funksjon som finner ut hvor mange element i arrayen arr som må summerer for at summen skal bli større eller lik 20. Antallet elementer som inngikk i summasjonen skrives til skjerm.\r\n",
    "\n",
    "\n",
    "\n",
    "\n"
   ]
  },
  {
   "cell_type": "code",
   "execution_count": 40,
   "id": "ace12a8b-95a1-4eee-b6ff-d5b8b4a2927c",
   "metadata": {},
   "outputs": [
    {
     "name": "stdout",
     "output_type": "stream",
     "text": [
      "3.0\n",
      "5.0\n",
      "6.7\n",
      "9.3\n",
      "23.3\n",
      "Antall elementer som må summeres er 5\n"
     ]
    }
   ],
   "source": [
    "#Eksempel på kode: \n",
    "\n",
    "import numpy as np\n",
    "arr = np.array([3, 2, 1.7, 2.6, 14, 27, 1.9, 0.1, 8.2])\n",
    "\n",
    "#Oppgave 1\n",
    "#def min_func(arr)\n",
    "#    funnet = 0\n",
    "#    index = 0\n",
    "\n",
    "#    while funnet < 2:\n",
    "#        if arr[index] >= 5:\n",
    "#            funnet += 1\n",
    "#            print(arr[index])\n",
    "#        index += 1\n",
    "#min_func(arr)\n",
    "\n",
    "#Oppgave 2:\n",
    "def min_func(arr):\n",
    "    resultat = 0\n",
    "    index = 0\n",
    "\n",
    "    while resultat < 20:\n",
    "        resultat = resultat + arr[index]\n",
    "        index += 1\n",
    "        print(resultat)\n",
    "    print(\"Antall elementer som må summeres er\", index)\n",
    "min_func(arr)\n"
   ]
  }
 ],
 "metadata": {
  "kernelspec": {
   "display_name": "Python 3 (ipykernel)",
   "language": "python",
   "name": "python3"
  },
  "language_info": {
   "codemirror_mode": {
    "name": "ipython",
    "version": 3
   },
   "file_extension": ".py",
   "mimetype": "text/x-python",
   "name": "python",
   "nbconvert_exporter": "python",
   "pygments_lexer": "ipython3",
   "version": "3.12.7"
  }
 },
 "nbformat": 4,
 "nbformat_minor": 5
}

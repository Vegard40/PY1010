{
 "cells": [
  {
   "metadata": {},
   "cell_type": "markdown",
   "source": "a) Opprett en dictionary som gitt under. Dictionaryen har ulike land som nøkkel (Keys) og gir info om hovedstaden i landet og antall innbyggere i mill. i hovedstaden.",
   "id": "629d4fcbebbde0df"
  },
  {
   "metadata": {
    "collapsed": true,
    "ExecuteTime": {
     "end_time": "2024-12-04T23:03:35.963838Z",
     "start_time": "2024-12-04T23:03:35.509307Z"
    }
   },
   "cell_type": "code",
   "source": [
    "from anyio.abc import value\n",
    "import matplotlib as mpl\n",
    "import numpy as np\n",
    "\n",
    "#Dictionary som innheholder noen land, og informasjon om dem\n",
    "data = {\n",
    "    \"Norge\": [\"Oslo\", 0.634],\n",
    "    \"England\": [\"London\", 8.982],\n",
    "    \"Frankrike\": [\"Paris\", 2.151],\n",
    "    \"Italia\": [\"Roma\", 2.873]\n",
    "}\n",
    "print(\"Det finnes informasjon om følgende land i denne dictionary: \")\n",
    "for key in data:\n",
    "    print(key)\n"
   ],
   "id": "initial_id",
   "outputs": [
    {
     "name": "stdout",
     "output_type": "stream",
     "text": [
      "Det finnes informasjon om følgende land i denne dictionary: \n",
      "Norge\n",
      "England\n",
      "Frankrike\n",
      "Italia\n"
     ]
    }
   ],
   "execution_count": 1
  },
  {
   "metadata": {},
   "cell_type": "markdown",
   "source": [
    "b) Lag et program som ber brukeren skrive inn et land (eksempelvis England).\n",
    "Programmet skal på bakgrunn av dette skrive ut følgende setning:\n",
    "London er hovedstaden i England og det er 8.982 mill. innbyggere i London"
   ],
   "id": "21ee81c52cf1567a"
  },
  {
   "metadata": {
    "ExecuteTime": {
     "end_time": "2024-12-04T23:03:45.026367Z",
     "start_time": "2024-12-04T23:03:36.022104Z"
    }
   },
   "cell_type": "code",
   "source": [
    "#Ber brukeren skrive inn et land\n",
    "bruker_input = input(\"hvilket land ønsker du informasjon om? \")\n",
    "if bruker_input in data:\n",
    "    hovedstad = data[bruker_input][0]\n",
    "    innbyggertall = data[bruker_input][1]\n",
    "    print(hovedstad, \"er hovedstaden i\",bruker_input,\",og det er\",innbyggertall,\"mill. innbyggere i\",hovedstad)\n",
    "else: print(\"Landet du har skrevet er ikke i denne dictionary\")"
   ],
   "id": "f45da821a0a78817",
   "outputs": [
    {
     "name": "stdout",
     "output_type": "stream",
     "text": [
      "Oslo er hovedstaden i Norge ,og det er 0.634 mill. innbyggere i Oslo\n"
     ]
    }
   ],
   "execution_count": 2
  },
  {
   "metadata": {},
   "cell_type": "markdown",
   "source": [
    "c) Lag et program som ber brukeren skrive inn info om et nytt land (altså et land som\n",
    "ikke allerede finnes i dictionaryen data). Videre skal brukeren oppgi hovedstad og\n",
    "antall innbyggere for det «nye» landet. Programmet skal så utvide/oppdatere\n",
    "dictionaryen med den nye informasjonen. Dictionaryen data skrives så til skjerm."
   ],
   "id": "d7ed2bcf8a66b7fe"
  },
  {
   "metadata": {
    "ExecuteTime": {
     "end_time": "2024-12-04T23:03:49.872841Z",
     "start_time": "2024-12-04T23:03:45.463937Z"
    }
   },
   "cell_type": "code",
   "source": [
    "#Ber brukeren om å skrive inn en ny hovedstad\n",
    "nyttland = input(\"Hvilket land ønsker du å legge til i dictionary?\")\n",
    "nyhovedstad = input(\"Hva er hovedstaden i dette landet?\")\n",
    "nyttinnbyggertall = input(\"Hvor mange innbyggere bor i denne byen\")\n",
    "data[nyttland] = [nyhovedstad, nyttinnbyggertall]\n",
    "print(\"Du har nå lagt inn et nytt land i dictionary\")\n",
    "for key in data:\n",
    "    print(key)"
   ],
   "id": "b765a7d05fd580f2",
   "outputs": [
    {
     "ename": "KeyboardInterrupt",
     "evalue": "Interrupted by user",
     "output_type": "error",
     "traceback": [
      "\u001B[1;31m---------------------------------------------------------------------------\u001B[0m",
      "\u001B[1;31mKeyboardInterrupt\u001B[0m                         Traceback (most recent call last)",
      "Cell \u001B[1;32mIn[3], line 2\u001B[0m\n\u001B[0;32m      1\u001B[0m \u001B[38;5;66;03m#Ber brukeren om å skrive inn en ny hovedstad\u001B[39;00m\n\u001B[1;32m----> 2\u001B[0m nyttland \u001B[38;5;241m=\u001B[39m \u001B[38;5;28;43minput\u001B[39;49m\u001B[43m(\u001B[49m\u001B[38;5;124;43m\"\u001B[39;49m\u001B[38;5;124;43mHvilket land ønsker du å legge til i dictionary?\u001B[39;49m\u001B[38;5;124;43m\"\u001B[39;49m\u001B[43m)\u001B[49m\n\u001B[0;32m      3\u001B[0m nyhovedstad \u001B[38;5;241m=\u001B[39m \u001B[38;5;28minput\u001B[39m(\u001B[38;5;124m\"\u001B[39m\u001B[38;5;124mHva er hovedstaden i dette landet?\u001B[39m\u001B[38;5;124m\"\u001B[39m)\n\u001B[0;32m      4\u001B[0m nyttinnbyggertall \u001B[38;5;241m=\u001B[39m \u001B[38;5;28minput\u001B[39m(\u001B[38;5;124m\"\u001B[39m\u001B[38;5;124mHvor mange innbyggere bor i denne byen\u001B[39m\u001B[38;5;124m\"\u001B[39m)\n",
      "File \u001B[1;32m~\\AppData\\Local\\Packages\\PythonSoftwareFoundation.Python.3.12_qbz5n2kfra8p0\\LocalCache\\local-packages\\Python312\\site-packages\\ipykernel\\kernelbase.py:1282\u001B[0m, in \u001B[0;36mKernel.raw_input\u001B[1;34m(self, prompt)\u001B[0m\n\u001B[0;32m   1280\u001B[0m     msg \u001B[38;5;241m=\u001B[39m \u001B[38;5;124m\"\u001B[39m\u001B[38;5;124mraw_input was called, but this frontend does not support input requests.\u001B[39m\u001B[38;5;124m\"\u001B[39m\n\u001B[0;32m   1281\u001B[0m     \u001B[38;5;28;01mraise\u001B[39;00m StdinNotImplementedError(msg)\n\u001B[1;32m-> 1282\u001B[0m \u001B[38;5;28;01mreturn\u001B[39;00m \u001B[38;5;28;43mself\u001B[39;49m\u001B[38;5;241;43m.\u001B[39;49m\u001B[43m_input_request\u001B[49m\u001B[43m(\u001B[49m\n\u001B[0;32m   1283\u001B[0m \u001B[43m    \u001B[49m\u001B[38;5;28;43mstr\u001B[39;49m\u001B[43m(\u001B[49m\u001B[43mprompt\u001B[49m\u001B[43m)\u001B[49m\u001B[43m,\u001B[49m\n\u001B[0;32m   1284\u001B[0m \u001B[43m    \u001B[49m\u001B[38;5;28;43mself\u001B[39;49m\u001B[38;5;241;43m.\u001B[39;49m\u001B[43m_parent_ident\u001B[49m\u001B[43m[\u001B[49m\u001B[38;5;124;43m\"\u001B[39;49m\u001B[38;5;124;43mshell\u001B[39;49m\u001B[38;5;124;43m\"\u001B[39;49m\u001B[43m]\u001B[49m\u001B[43m,\u001B[49m\n\u001B[0;32m   1285\u001B[0m \u001B[43m    \u001B[49m\u001B[38;5;28;43mself\u001B[39;49m\u001B[38;5;241;43m.\u001B[39;49m\u001B[43mget_parent\u001B[49m\u001B[43m(\u001B[49m\u001B[38;5;124;43m\"\u001B[39;49m\u001B[38;5;124;43mshell\u001B[39;49m\u001B[38;5;124;43m\"\u001B[39;49m\u001B[43m)\u001B[49m\u001B[43m,\u001B[49m\n\u001B[0;32m   1286\u001B[0m \u001B[43m    \u001B[49m\u001B[43mpassword\u001B[49m\u001B[38;5;241;43m=\u001B[39;49m\u001B[38;5;28;43;01mFalse\u001B[39;49;00m\u001B[43m,\u001B[49m\n\u001B[0;32m   1287\u001B[0m \u001B[43m\u001B[49m\u001B[43m)\u001B[49m\n",
      "File \u001B[1;32m~\\AppData\\Local\\Packages\\PythonSoftwareFoundation.Python.3.12_qbz5n2kfra8p0\\LocalCache\\local-packages\\Python312\\site-packages\\ipykernel\\kernelbase.py:1325\u001B[0m, in \u001B[0;36mKernel._input_request\u001B[1;34m(self, prompt, ident, parent, password)\u001B[0m\n\u001B[0;32m   1322\u001B[0m \u001B[38;5;28;01mexcept\u001B[39;00m \u001B[38;5;167;01mKeyboardInterrupt\u001B[39;00m:\n\u001B[0;32m   1323\u001B[0m     \u001B[38;5;66;03m# re-raise KeyboardInterrupt, to truncate traceback\u001B[39;00m\n\u001B[0;32m   1324\u001B[0m     msg \u001B[38;5;241m=\u001B[39m \u001B[38;5;124m\"\u001B[39m\u001B[38;5;124mInterrupted by user\u001B[39m\u001B[38;5;124m\"\u001B[39m\n\u001B[1;32m-> 1325\u001B[0m     \u001B[38;5;28;01mraise\u001B[39;00m \u001B[38;5;167;01mKeyboardInterrupt\u001B[39;00m(msg) \u001B[38;5;28;01mfrom\u001B[39;00m \u001B[38;5;28;01mNone\u001B[39;00m\n\u001B[0;32m   1326\u001B[0m \u001B[38;5;28;01mexcept\u001B[39;00m \u001B[38;5;167;01mException\u001B[39;00m:\n\u001B[0;32m   1327\u001B[0m     \u001B[38;5;28mself\u001B[39m\u001B[38;5;241m.\u001B[39mlog\u001B[38;5;241m.\u001B[39mwarning(\u001B[38;5;124m\"\u001B[39m\u001B[38;5;124mInvalid Message:\u001B[39m\u001B[38;5;124m\"\u001B[39m, exc_info\u001B[38;5;241m=\u001B[39m\u001B[38;5;28;01mTrue\u001B[39;00m)\n",
      "\u001B[1;31mKeyboardInterrupt\u001B[0m: Interrupted by user"
     ]
    }
   ],
   "execution_count": 3
  },
  {
   "metadata": {},
   "cell_type": "markdown",
   "source": "Samler her koden fra de foregående deloppgavene slik at bruker får et valg om hva hen har lyst til å gjøre med denne dictionary",
   "id": "cadd444f6190100d"
  },
  {
   "metadata": {
    "ExecuteTime": {
     "end_time": "2024-12-04T23:03:49.927588600Z",
     "start_time": "2024-12-04T21:07:55.833194Z"
    }
   },
   "cell_type": "code",
   "source": [
    "# Spør brukeren om hen ønsker informasjon om et land eller vil legge til et nytt land i dictionary\n",
    "brukerinputvalg = input(\"Hvis du ønsker informasjon om et land skriv 1.\\nOm du ønsker å legge til et land, skriv 2.\\nOm du ønsker å vise hvilke land som er i dictionary, skriv 3\")\n",
    "#Dersom bruker ønsker å vise informasjon om et land\n",
    "if brukerinputvalg == \"1\":\n",
    "    #Ber brukeren skrive inn et land\n",
    "    bruker_input = input(\"hvilket land ønsker du informasjon om? \")\n",
    "    if bruker_input in data:\n",
    "        hovedstad = data[bruker_input][0]\n",
    "        innbyggertall = data[bruker_input][1]\n",
    "        print(hovedstad, \"er hovedstaden i\",bruker_input,\",og det er\",innbyggertall,\"mill. innbyggere i\",hovedstad)\n",
    "    else: print(\"Landet du har skrevet er ikke i denne dictionary\")\n",
    "elif brukerinputvalg == \"2\":\n",
    "    #Ber brukeren om å skrive inn en ny hovedstad\n",
    "    nyttland = input(\"Hvilket land ønsker du å legge til i dictionary?\")\n",
    "    nyhovedstad = input(\"Hva er hovedstaden i dette landet?\")\n",
    "    nyttinnbyggertall = input(\"Hvor mange innbyggere bor i denne byen?\\nAngi i millioner\")\n",
    "    data[nyttland] = [nyhovedstad, nyttinnbyggertall]\n",
    "    print(\"Du har nå lagt inn et nytt land i dictionary\")\n",
    "elif brukerinputvalg == \"3\":\n",
    "    print(\"Det finnes informasjon om følgende land i denne dictionary: \")\n",
    "    for key in data:\n",
    "        print(key)\n",
    "else:\n",
    "    print(\"Du har skrevet en ugyldig verdi\")"
   ],
   "id": "a1649d275a9c8397",
   "outputs": [
    {
     "name": "stdout",
     "output_type": "stream",
     "text": [
      "Det finnes informasjon om følgende land i denne dictionary: \n",
      "Norge\n",
      "England\n",
      "Frankrike\n",
      "Italia\n",
      "Finland\n",
      "Sverige\n",
      "Danmark\n"
     ]
    }
   ],
   "execution_count": 38
  }
 ],
 "metadata": {
  "kernelspec": {
   "display_name": "Python 3",
   "language": "python",
   "name": "python3"
  },
  "language_info": {
   "codemirror_mode": {
    "name": "ipython",
    "version": 2
   },
   "file_extension": ".py",
   "mimetype": "text/x-python",
   "name": "python",
   "nbconvert_exporter": "python",
   "pygments_lexer": "ipython2",
   "version": "2.7.6"
  }
 },
 "nbformat": 4,
 "nbformat_minor": 5
}

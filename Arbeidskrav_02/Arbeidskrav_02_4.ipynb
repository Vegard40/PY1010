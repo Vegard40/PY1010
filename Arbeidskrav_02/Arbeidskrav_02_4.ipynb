{
 "cells": [
  {
   "metadata": {},
   "cell_type": "markdown",
   "source": "a) Opprett en dictionary som gitt under. Dictionaryen har ulike land som nøkkel (Keys) og gir info om hovedstaden i landet og antall innbyggere i mill. i hovedstaden.",
   "id": "629d4fcbebbde0df"
  },
  {
   "metadata": {
    "collapsed": true,
    "ExecuteTime": {
     "end_time": "2024-12-04T20:51:19.143442Z",
     "start_time": "2024-12-04T20:51:19.131023Z"
    }
   },
   "cell_type": "code",
   "source": [
    "from anyio.abc import value\n",
    "import matplotlib as mpl\n",
    "import numpy as np\n",
    "\n",
    "#Dictionary som innheholder noen land, og informasjon om dem\n",
    "data = {\n",
    "    \"Norge\": [\"Oslo\", 0.634],\n",
    "    \"England\": [\"London\", 8.982],\n",
    "    \"Frankrike\": [\"Paris\", 2.151],\n",
    "    \"Italia\": [\"Roma\", 2.873]\n",
    "}\n",
    "print(\"Det finnes informasjon om følgende land i denne dictionary: \")\n",
    "for key in data:\n",
    "    print(key)\n"
   ],
   "id": "initial_id",
   "outputs": [
    {
     "name": "stdout",
     "output_type": "stream",
     "text": [
      "Det finnes informasjon om følgende land i denne dictionary: \n",
      "Norge\n",
      "England\n",
      "Frankrike\n",
      "Italia\n"
     ]
    }
   ],
   "execution_count": 26
  },
  {
   "metadata": {},
   "cell_type": "markdown",
   "source": [
    "b) Lag et program som ber brukeren skrive inn et land (eksempelvis England).\n",
    "Programmet skal på bakgrunn av dette skrive ut følgende setning:\n",
    "London er hovedstaden i England og det er 8.982 mill. innbyggere i London"
   ],
   "id": "21ee81c52cf1567a"
  },
  {
   "metadata": {
    "ExecuteTime": {
     "end_time": "2024-12-04T20:51:41.809275Z",
     "start_time": "2024-12-04T20:51:34.252137Z"
    }
   },
   "cell_type": "code",
   "source": [
    "#Ber brukeren skrive inn et land\n",
    "bruker_input = input(\"hvilket land ønsker du informasjon om? \")\n",
    "if bruker_input in data:\n",
    "    hovedstad = data[bruker_input][0]\n",
    "    innbyggertall = data[bruker_input][1]\n",
    "    print(hovedstad, \"er hovedstaden i\",bruker_input,\",og det er\",innbyggertall,\"mill. innbyggere i\",hovedstad)\n",
    "else: print(\"Landet du har skrevet er ikke i denne dictionary\")"
   ],
   "id": "f45da821a0a78817",
   "outputs": [
    {
     "name": "stdout",
     "output_type": "stream",
     "text": [
      "Landet du har skrevet er ikke i denne dictionary\n"
     ]
    }
   ],
   "execution_count": 27
  },
  {
   "metadata": {},
   "cell_type": "markdown",
   "source": [
    "c) Lag et program som ber brukeren skrive inn info om et nytt land (altså et land som\n",
    "ikke allerede finnes i dictionaryen data). Videre skal brukeren oppgi hovedstad og\n",
    "antall innbyggere for det «nye» landet. Programmet skal så utvide/oppdatere\n",
    "dictionaryen med den nye informasjonen. Dictionaryen data skrives så til skjerm."
   ],
   "id": "d7ed2bcf8a66b7fe"
  },
  {
   "metadata": {
    "ExecuteTime": {
     "end_time": "2024-12-04T20:54:11.629337Z",
     "start_time": "2024-12-04T20:53:42.083317Z"
    }
   },
   "cell_type": "code",
   "source": [
    "#Ber brukeren om å skrive inn en ny hovedstad\n",
    "nyttland = input(\"Hvilket land ønsker du å legge til i dictionary?\")\n",
    "nyhovedstad = input(\"Hva er hovedstaden i dette landet?\")\n",
    "nyttinnbyggertall = input(\"Hvor mange innbyggere bor i denne byen\")\n",
    "data[nyttland] = [nyhovedstad, nyttinnbyggertall]\n",
    "print(\"Du har nå lagt inn et nytt land i dictionary\")\n",
    "for key in data:\n",
    "    print(key)"
   ],
   "id": "b765a7d05fd580f2",
   "outputs": [
    {
     "name": "stdout",
     "output_type": "stream",
     "text": [
      "Du har nå lagt inn et nytt land i dictionary\n",
      "Norge\n",
      "England\n",
      "Frankrike\n",
      "Italia\n",
      "Finland\n"
     ]
    }
   ],
   "execution_count": 29
  },
  {
   "metadata": {},
   "cell_type": "markdown",
   "source": "Samler her koden fra de foregående deloppgavene slik at bruker får et valg om hva hen har lyst til å gjøre med denne dictionary",
   "id": "cadd444f6190100d"
  },
  {
   "metadata": {
    "ExecuteTime": {
     "end_time": "2024-12-04T21:08:02.339716Z",
     "start_time": "2024-12-04T21:07:55.833194Z"
    }
   },
   "cell_type": "code",
   "source": [
    "# Spør brukeren om hen ønsker informasjon om et land eller vil legge til et nytt land i dictionary\n",
    "brukerinputvalg = input(\"Hvis du ønsker informasjon om et land skriv 1.\\nOm du ønsker å legge til et land, skriv 2.\\nOm du ønsker å vise hvilke land som er i dictionary, skriv 3\")\n",
    "#Dersom bruker ønsker å vise informasjon om et land\n",
    "if brukerinputvalg == \"1\":\n",
    "    #Ber brukeren skrive inn et land\n",
    "    bruker_input = input(\"hvilket land ønsker du informasjon om? \")\n",
    "    if bruker_input in data:\n",
    "        hovedstad = data[bruker_input][0]\n",
    "        innbyggertall = data[bruker_input][1]\n",
    "        print(hovedstad, \"er hovedstaden i\",bruker_input,\",og det er\",innbyggertall,\"mill. innbyggere i\",hovedstad)\n",
    "    else: print(\"Landet du har skrevet er ikke i denne dictionary\")\n",
    "elif brukerinputvalg == \"2\":\n",
    "    #Ber brukeren om å skrive inn en ny hovedstad\n",
    "    nyttland = input(\"Hvilket land ønsker du å legge til i dictionary?\")\n",
    "    nyhovedstad = input(\"Hva er hovedstaden i dette landet?\")\n",
    "    nyttinnbyggertall = input(\"Hvor mange innbyggere bor i denne byen?\\nAngi i millioner\")\n",
    "    data[nyttland] = [nyhovedstad, nyttinnbyggertall]\n",
    "    print(\"Du har nå lagt inn et nytt land i dictionary\")\n",
    "elif brukerinputvalg == \"3\":\n",
    "    print(\"Det finnes informasjon om følgende land i denne dictionary: \")\n",
    "    for key in data:\n",
    "        print(key)\n",
    "else:\n",
    "    print(\"Du har skrevet en ugyldig verdi\")"
   ],
   "id": "a1649d275a9c8397",
   "outputs": [
    {
     "name": "stdout",
     "output_type": "stream",
     "text": [
      "Det finnes informasjon om følgende land i denne dictionary: \n",
      "Norge\n",
      "England\n",
      "Frankrike\n",
      "Italia\n",
      "Finland\n",
      "Sverige\n",
      "Danmark\n"
     ]
    }
   ],
   "execution_count": 38
  }
 ],
 "metadata": {
  "kernelspec": {
   "display_name": "Python 3",
   "language": "python",
   "name": "python3"
  },
  "language_info": {
   "codemirror_mode": {
    "name": "ipython",
    "version": 2
   },
   "file_extension": ".py",
   "mimetype": "text/x-python",
   "name": "python",
   "nbconvert_exporter": "python",
   "pygments_lexer": "ipython2",
   "version": "2.7.6"
  }
 },
 "nbformat": 4,
 "nbformat_minor": 5
}

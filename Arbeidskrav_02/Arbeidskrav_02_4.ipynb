{
 "cells": [
  {
   "metadata": {},
   "cell_type": "markdown",
   "source": "a) Opprett en dictionary som gitt under. Dictionaryen har ulike land som nøkkel (Keys) og gir info om hovedstaden i landet og antall innbyggere i mill. i hovedstaden.",
   "id": "629d4fcbebbde0df"
  },
  {
   "metadata": {
    "collapsed": true,
    "ExecuteTime": {
     "end_time": "2024-12-03T19:44:04.288090Z",
     "start_time": "2024-12-03T19:44:04.283887Z"
    }
   },
   "cell_type": "code",
   "source": "",
   "id": "initial_id",
   "outputs": [],
   "execution_count": null
  },
  {
   "metadata": {},
   "cell_type": "markdown",
   "source": [
    "b) Lag et program som ber brukeren skrive inn et land (eksempelvis England).\n",
    "Programmet skal på bakgrunn av dette skrive ut følgende setning:\n",
    "London er hovedstaden i England og det er 8.982 mill. innbyggere i London"
   ],
   "id": "21ee81c52cf1567a"
  },
  {
   "metadata": {},
   "cell_type": "code",
   "outputs": [],
   "execution_count": null,
   "source": "",
   "id": "f45da821a0a78817"
  },
  {
   "metadata": {},
   "cell_type": "markdown",
   "source": [
    "c) Lag et program som ber brukeren skrive inn info om et nytt land (altså et land som\n",
    "ikke allerede finnes i dictionaryen data). Videre skal brukeren oppgi hovedstad og\n",
    "antall innbyggere for det «nye» landet. Programmet skal så utvide/oppdatere\n",
    "dictionaryen med den nye informasjonen. Dictionaryen data skrives så til skjerm."
   ],
   "id": "d7ed2bcf8a66b7fe"
  },
  {
   "metadata": {},
   "cell_type": "code",
   "outputs": [],
   "execution_count": null,
   "source": "",
   "id": "b765a7d05fd580f2"
  }
 ],
 "metadata": {
  "kernelspec": {
   "display_name": "Python 3",
   "language": "python",
   "name": "python3"
  },
  "language_info": {
   "codemirror_mode": {
    "name": "ipython",
    "version": 2
   },
   "file_extension": ".py",
   "mimetype": "text/x-python",
   "name": "python",
   "nbconvert_exporter": "python",
   "pygments_lexer": "ipython2",
   "version": "2.7.6"
  }
 },
 "nbformat": 4,
 "nbformat_minor": 5
}

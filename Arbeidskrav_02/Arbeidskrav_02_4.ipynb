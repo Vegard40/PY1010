{
 "cells": [
  {
   "metadata": {},
   "cell_type": "markdown",
   "source": "a) Opprett en dictionary som gitt under. Dictionaryen har ulike land som nøkkel (Keys) og gir info om hovedstaden i landet og antall innbyggere i mill. i hovedstaden.",
   "id": "629d4fcbebbde0df"
  },
  {
   "metadata": {
    "collapsed": true,
    "ExecuteTime": {
     "end_time": "2024-12-03T21:59:52.759592Z",
     "start_time": "2024-12-03T21:59:52.753904Z"
    }
   },
   "cell_type": "code",
   "source": [
    "from anyio.abc import value\n",
    "\n",
    "#Dictionary som innheholder noen land, og informasjon om dem\n",
    "data = {\n",
    "    \"Norge\": [\"Oslo\", 0.634],\n",
    "    \"England\": [\"London\", 8.982],\n",
    "    \"Frankrike\": [\"Paris\", 2.151],\n",
    "    \"Italia\": [\"Roma\", 2.873]\n",
    "}\n",
    "print(\"Det finnes informasjon om følgende land i denne dictionary: \")\n",
    "for key in data:\n",
    "    print(key)\n"
   ],
   "id": "initial_id",
   "outputs": [
    {
     "name": "stdout",
     "output_type": "stream",
     "text": [
      "Det finnes informasjon om følgende land i denne dictionary: \n",
      "Norge\n",
      "England\n",
      "Frankrike\n",
      "Italia\n"
     ]
    }
   ],
   "execution_count": 18
  },
  {
   "metadata": {},
   "cell_type": "markdown",
   "source": [
    "b) Lag et program som ber brukeren skrive inn et land (eksempelvis England).\n",
    "Programmet skal på bakgrunn av dette skrive ut følgende setning:\n",
    "London er hovedstaden i England og det er 8.982 mill. innbyggere i London"
   ],
   "id": "21ee81c52cf1567a"
  },
  {
   "metadata": {
    "ExecuteTime": {
     "end_time": "2024-12-03T22:32:48.941540Z",
     "start_time": "2024-12-03T22:32:43.735217Z"
    }
   },
   "cell_type": "code",
   "source": [
    "#Ber brukeren skrive inn et land\n",
    "bruker_input = input(\"hvilket land ønsker du informasjon om? \")\n",
    "if bruker_input in data:\n",
    "    print()\n",
    "else: print(\"Landet du har skrevet er ikke i denne dictionary\")"
   ],
   "id": "f45da821a0a78817",
   "outputs": [
    {
     "name": "stdout",
     "output_type": "stream",
     "text": [
      "Norge: ['Oslo', 0.634]\n",
      "England: ['London', 8.982]\n",
      "Frankrike: ['Paris', 2.151]\n",
      "Italia: ['Roma', 2.873]\n"
     ]
    }
   ],
   "execution_count": 37
  },
  {
   "metadata": {},
   "cell_type": "markdown",
   "source": [
    "c) Lag et program som ber brukeren skrive inn info om et nytt land (altså et land som\n",
    "ikke allerede finnes i dictionaryen data). Videre skal brukeren oppgi hovedstad og\n",
    "antall innbyggere for det «nye» landet. Programmet skal så utvide/oppdatere\n",
    "dictionaryen med den nye informasjonen. Dictionaryen data skrives så til skjerm."
   ],
   "id": "d7ed2bcf8a66b7fe"
  },
  {
   "metadata": {},
   "cell_type": "code",
   "outputs": [],
   "execution_count": null,
   "source": "",
   "id": "b765a7d05fd580f2"
  }
 ],
 "metadata": {
  "kernelspec": {
   "display_name": "Python 3",
   "language": "python",
   "name": "python3"
  },
  "language_info": {
   "codemirror_mode": {
    "name": "ipython",
    "version": 2
   },
   "file_extension": ".py",
   "mimetype": "text/x-python",
   "name": "python",
   "nbconvert_exporter": "python",
   "pygments_lexer": "ipython2",
   "version": "2.7.6"
  }
 },
 "nbformat": 4,
 "nbformat_minor": 5
}
